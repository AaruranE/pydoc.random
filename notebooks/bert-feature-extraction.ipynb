{
 "cells": [
  {
   "cell_type": "code",
   "execution_count": 1,
   "metadata": {},
   "outputs": [
    {
     "name": "stdout",
     "output_type": "stream",
     "text": [
      "Collecting keras-bert\n",
      "  Downloading https://files.pythonhosted.org/packages/6b/61/fc2707e7e05aeb8876167ed96938f33933e5c480668ae8268c9a7572b51d/keras-bert-0.71.0.tar.gz\n",
      "Requirement already satisfied: numpy in /home/aaruran/miniconda3/lib/python3.7/site-packages (from keras-bert) (1.16.4)\n",
      "Requirement already satisfied: Keras in /home/aaruran/miniconda3/lib/python3.7/site-packages (from keras-bert) (2.2.4)\n",
      "Collecting keras-transformer>=0.29.0 (from keras-bert)\n",
      "  Downloading https://files.pythonhosted.org/packages/6b/9c/9dda9466a97cfd21300736555a257429a162d774cc4470a1b880796eaeac/keras-transformer-0.29.0.tar.gz\n",
      "Requirement already satisfied: scipy>=0.14 in /home/aaruran/.local/lib/python3.7/site-packages (from Keras->keras-bert) (1.3.0)\n",
      "Requirement already satisfied: six>=1.9.0 in /home/aaruran/miniconda3/lib/python3.7/site-packages (from Keras->keras-bert) (1.12.0)\n",
      "Requirement already satisfied: pyyaml in /home/aaruran/miniconda3/lib/python3.7/site-packages (from Keras->keras-bert) (5.1.1)\n",
      "Requirement already satisfied: h5py in /home/aaruran/miniconda3/lib/python3.7/site-packages (from Keras->keras-bert) (2.8.0)\n",
      "Requirement already satisfied: keras_applications>=1.0.6 in /home/aaruran/miniconda3/lib/python3.7/site-packages (from Keras->keras-bert) (1.0.8)\n",
      "Requirement already satisfied: keras_preprocessing>=1.0.5 in /home/aaruran/miniconda3/lib/python3.7/site-packages (from Keras->keras-bert) (1.1.0)\n",
      "Collecting keras-pos-embd>=0.10.0 (from keras-transformer>=0.29.0->keras-bert)\n",
      "  Downloading https://files.pythonhosted.org/packages/09/70/b63ed8fc660da2bb6ae29b9895401c628da5740c048c190b5d7107cadd02/keras-pos-embd-0.11.0.tar.gz\n",
      "Collecting keras-multi-head>=0.20.0 (from keras-transformer>=0.29.0->keras-bert)\n",
      "  Downloading https://files.pythonhosted.org/packages/3b/0f/f1a66974db9c328ba675c1df63f8a68c5c0f3e181f1e74db4f3b1a72a6df/keras-multi-head-0.20.0.tar.gz\n",
      "Collecting keras-layer-normalization>=0.12.0 (from keras-transformer>=0.29.0->keras-bert)\n",
      "  Downloading https://files.pythonhosted.org/packages/95/76/42878fe46bff8458d8aa1da50bfdf705d632d33dbb7b60db52a06faf2dad/keras-layer-normalization-0.12.0.tar.gz\n",
      "Collecting keras-position-wise-feed-forward>=0.5.0 (from keras-transformer>=0.29.0->keras-bert)\n",
      "  Downloading https://files.pythonhosted.org/packages/e3/59/f0faa1037c033059e7e9e7758e6c23b4d1c0772cd48de14c4b6fd4033ad5/keras-position-wise-feed-forward-0.6.0.tar.gz\n",
      "Collecting keras-embed-sim>=0.7.0 (from keras-transformer>=0.29.0->keras-bert)\n",
      "  Downloading https://files.pythonhosted.org/packages/bc/20/735fd53f6896e2af63af47e212601c1b8a7a80d00b6126c388c9d1233892/keras-embed-sim-0.7.0.tar.gz\n",
      "Collecting keras-self-attention==0.41.0 (from keras-multi-head>=0.20.0->keras-transformer>=0.29.0->keras-bert)\n",
      "  Downloading https://files.pythonhosted.org/packages/1b/1c/01599219bef7266fa43b3316e4f55bcb487734d3bafdc60ffd564f3cfe29/keras-self-attention-0.41.0.tar.gz\n",
      "Building wheels for collected packages: keras-bert, keras-transformer, keras-pos-embd, keras-multi-head, keras-layer-normalization, keras-position-wise-feed-forward, keras-embed-sim, keras-self-attention\n",
      "  Building wheel for keras-bert (setup.py) ... \u001b[?25ldone\n",
      "\u001b[?25h  Stored in directory: /home/aaruran/.cache/pip/wheels/dd/21/e2/219589c9dfe487c3b9f85b2097c96127f794c15e3bc87fc597\n",
      "  Building wheel for keras-transformer (setup.py) ... \u001b[?25ldone\n",
      "\u001b[?25h  Stored in directory: /home/aaruran/.cache/pip/wheels/d5/77/37/8fcad8efc82751342b5e19134629444394a316cee7e0955f4d\n",
      "  Building wheel for keras-pos-embd (setup.py) ... \u001b[?25ldone\n",
      "\u001b[?25h  Stored in directory: /home/aaruran/.cache/pip/wheels/5b/a1/a0/ce6b1d49ba1a9a76f592e70cf297b05c96bc9f418146761032\n",
      "  Building wheel for keras-multi-head (setup.py) ... \u001b[?25ldone\n",
      "\u001b[?25h  Stored in directory: /home/aaruran/.cache/pip/wheels/95/49/02/4eda210bc4c37ff1d45311665bceb790881dbea92b27b025a5\n",
      "  Building wheel for keras-layer-normalization (setup.py) ... \u001b[?25ldone\n",
      "\u001b[?25h  Stored in directory: /home/aaruran/.cache/pip/wheels/c3/9b/9e/f4072915f660e90bb3638332276f4de80476f3afcb5d010d6f\n",
      "  Building wheel for keras-position-wise-feed-forward (setup.py) ... \u001b[?25ldone\n",
      "\u001b[?25h  Stored in directory: /home/aaruran/.cache/pip/wheels/39/e2/e2/3514fef126a00574b13bc0b9e23891800158df3a3c19c96e3b\n",
      "  Building wheel for keras-embed-sim (setup.py) ... \u001b[?25ldone\n",
      "\u001b[?25h  Stored in directory: /home/aaruran/.cache/pip/wheels/d1/bc/b1/b0c45cee4ca2e6c86586b0218ffafe7f0703c6d07fdf049866\n",
      "  Building wheel for keras-self-attention (setup.py) ... \u001b[?25ldone\n",
      "\u001b[?25h  Stored in directory: /home/aaruran/.cache/pip/wheels/cc/dc/17/84258b27a04cd38ac91998abe148203720ca696186635db694\n",
      "Successfully built keras-bert keras-transformer keras-pos-embd keras-multi-head keras-layer-normalization keras-position-wise-feed-forward keras-embed-sim keras-self-attention\n",
      "Installing collected packages: keras-pos-embd, keras-self-attention, keras-multi-head, keras-layer-normalization, keras-position-wise-feed-forward, keras-embed-sim, keras-transformer, keras-bert\n",
      "Successfully installed keras-bert-0.71.0 keras-embed-sim-0.7.0 keras-layer-normalization-0.12.0 keras-multi-head-0.20.0 keras-pos-embd-0.11.0 keras-position-wise-feed-forward-0.6.0 keras-self-attention-0.41.0 keras-transformer-0.29.0\n"
     ]
    }
   ],
   "source": [
    "!pip install keras-bert"
   ]
  },
  {
   "cell_type": "code",
   "execution_count": 3,
   "metadata": {},
   "outputs": [
    {
     "name": "stdout",
     "output_type": "stream",
     "text": [
      "Downloading data from https://storage.googleapis.com/bert_models/2018_11_23/multi_cased_L-12_H-768_A-12.zip\n",
      "662904832/662903077 [==============================] - 206s 0us/step\n",
      "/home/aaruran/.keras/datasets/multi_cased_L-12_H-768_A-12/bert_config.json /home/aaruran/.keras/datasets/multi_cased_L-12_H-768_A-12/bert_model.ckpt /home/aaruran/.keras/datasets/multi_cased_L-12_H-768_A-12/vocab.txt\n"
     ]
    }
   ],
   "source": [
    "from keras_bert import get_pretrained, PretrainedList, get_checkpoint_paths\n",
    "\n",
    "model_path = get_pretrained(PretrainedList.multi_cased_base)\n",
    "paths = get_checkpoint_paths(model_path)\n",
    "print(paths.config, paths.checkpoint, paths.vocab)"
   ]
  },
  {
   "cell_type": "code",
   "execution_count": 5,
   "metadata": {},
   "outputs": [
    {
     "name": "stderr",
     "output_type": "stream",
     "text": [
      "WARNING: Logging before flag parsing goes to stderr.\n",
      "W0807 00:59:45.176675 140173894973248 deprecation_wrapper.py:119] From /home/aaruran/miniconda3/lib/python3.7/site-packages/keras/backend/tensorflow_backend.py:517: The name tf.placeholder is deprecated. Please use tf.compat.v1.placeholder instead.\n",
      "\n",
      "W0807 00:59:45.342272 140173894973248 deprecation_wrapper.py:119] From /home/aaruran/miniconda3/lib/python3.7/site-packages/keras/backend/tensorflow_backend.py:4138: The name tf.random_uniform is deprecated. Please use tf.random.uniform instead.\n",
      "\n",
      "W0807 00:59:45.462858 140173894973248 deprecation_wrapper.py:119] From /home/aaruran/miniconda3/lib/python3.7/site-packages/keras/backend/tensorflow_backend.py:131: The name tf.get_default_graph is deprecated. Please use tf.compat.v1.get_default_graph instead.\n",
      "\n",
      "W0807 00:59:45.463405 140173894973248 deprecation_wrapper.py:119] From /home/aaruran/miniconda3/lib/python3.7/site-packages/keras/backend/tensorflow_backend.py:133: The name tf.placeholder_with_default is deprecated. Please use tf.compat.v1.placeholder_with_default instead.\n",
      "\n",
      "W0807 00:59:45.469384 140173894973248 deprecation.py:506] From /home/aaruran/miniconda3/lib/python3.7/site-packages/keras/backend/tensorflow_backend.py:3445: calling dropout (from tensorflow.python.ops.nn_ops) with keep_prob is deprecated and will be removed in a future version.\n",
      "Instructions for updating:\n",
      "Please use `rate` instead of `keep_prob`. Rate should be set to `rate = 1 - keep_prob`.\n",
      "W0807 00:59:45.496243 140173894973248 deprecation_wrapper.py:119] From /home/aaruran/miniconda3/lib/python3.7/site-packages/keras/backend/tensorflow_backend.py:4185: The name tf.truncated_normal is deprecated. Please use tf.random.truncated_normal instead.\n",
      "\n"
     ]
    }
   ],
   "source": [
    "from keras_bert import extract_embeddings\n",
    "\n",
    "model_path = '/home/aaruran/.keras/datasets/multi_cased_L-12_H-768_A-12'\n",
    "texts = ['all work and no play', 'makes jack a dull boy~']\n",
    "\n",
    "embeddings = extract_embeddings(model_path, texts)"
   ]
  },
  {
   "cell_type": "code",
   "execution_count": 6,
   "metadata": {},
   "outputs": [
    {
     "data": {
      "text/plain": [
       "[array([[ 0.07555723, -0.15049121,  0.16471924, ...,  0.7772304 ,\n",
       "          0.02645274, -0.03034989],\n",
       "        [-0.12840077, -0.35628438,  0.02628788, ...,  1.4060179 ,\n",
       "          0.16582856, -0.29848862],\n",
       "        [-0.26589832, -0.25957048,  0.11313903, ...,  1.360117  ,\n",
       "          0.10190994, -0.41615835],\n",
       "        ...,\n",
       "        [-0.34311613, -0.25091088, -0.6827883 , ...,  1.3271191 ,\n",
       "         -0.15756896, -0.47915703],\n",
       "        [-0.2462945 , -0.12377768, -0.06864217, ...,  1.3978299 ,\n",
       "         -0.0394871 , -0.2007246 ],\n",
       "        [-0.02701654, -0.24945065,  0.33726335, ...,  0.7892865 ,\n",
       "          0.05166221, -0.12041622]], dtype=float32),\n",
       " array([[ 0.30147532, -0.22502998,  0.6198251 , ...,  0.565196  ,\n",
       "         -0.03832963,  0.15457758],\n",
       "        [ 0.10668601, -0.26670837,  0.65882504, ...,  1.0995177 ,\n",
       "         -0.13541119,  0.09595353],\n",
       "        [-0.2944898 , -0.3521175 ,  0.45152563, ..., -0.2449574 ,\n",
       "         -0.44603717, -0.08005644],\n",
       "        ...,\n",
       "        [ 0.42974773, -0.32283884,  0.43976012, ...,  0.17552905,\n",
       "         -0.4171933 , -0.08937853],\n",
       "        [ 0.47157037, -0.30103397,  0.6874233 , ...,  0.34941393,\n",
       "         -0.12127818, -0.11517821],\n",
       "        [ 0.26235312, -0.16330302,  0.8372983 , ...,  0.5393055 ,\n",
       "         -0.05222059,  0.04389734]], dtype=float32)]"
      ]
     },
     "execution_count": 6,
     "metadata": {},
     "output_type": "execute_result"
    }
   ],
   "source": [
    "embeddings"
   ]
  },
  {
   "cell_type": "code",
   "execution_count": null,
   "metadata": {},
   "outputs": [],
   "source": [
    "%%timeit\n",
    "embeddings = extract_embeddings(model_path, texts)"
   ]
  },
  {
   "cell_type": "code",
   "execution_count": null,
   "metadata": {},
   "outputs": [],
   "source": []
  }
 ],
 "metadata": {
  "kernelspec": {
   "display_name": "Python 3",
   "language": "python",
   "name": "python3"
  },
  "language_info": {
   "codemirror_mode": {
    "name": "ipython",
    "version": 3
   },
   "file_extension": ".py",
   "mimetype": "text/x-python",
   "name": "python",
   "nbconvert_exporter": "python",
   "pygments_lexer": "ipython3",
   "version": "3.7.3"
  }
 },
 "nbformat": 4,
 "nbformat_minor": 2
}
