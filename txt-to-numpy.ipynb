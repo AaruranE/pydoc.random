{
 "cells": [
  {
   "cell_type": "code",
   "execution_count": 1,
   "metadata": {},
   "outputs": [],
   "source": [
    "# source/inspiration: https://github.com/keras-team/keras/blob/master/examples/lstm_text_generation.py\n",
    "import numpy as np\n",
    "import os\n",
    "import pandas as pd\n",
    "from tqdm import tqdm"
   ]
  },
  {
   "cell_type": "code",
   "execution_count": 2,
   "metadata": {},
   "outputs": [],
   "source": [
    "maxlen = 40 # tunable parameter, but fine for now\n",
    "number_of_characters = 104"
   ]
  },
  {
   "cell_type": "code",
   "execution_count": 3,
   "metadata": {},
   "outputs": [
    {
     "name": "stderr",
     "output_type": "stream",
     "text": [
      "100%|██████████| 407/407 [00:12<00:00, 56.27it/s]\n"
     ]
    }
   ],
   "source": [
    "# as an example\n",
    "phrases = []\n",
    "next_chars = []\n",
    "source_directory = './cleaned_corpus'\n",
    "for f in tqdm(os.listdir(source_directory)):\n",
    "    file_name = source_directory + '/' + f\n",
    "    with open('./cleaned_corpus/c-api-module.txt', 'r') as src:\n",
    "        body = src.read()\n",
    "        str_tokens = body.split()\n",
    "        tokens = [int(i) for i in str_tokens]    \n",
    "        for i in range(len(tokens) - maxlen):\n",
    "            phrases.append(tokens[i:i + maxlen])\n",
    "            next_chars.append(tokens[i+maxlen])"
   ]
  },
  {
   "cell_type": "code",
   "execution_count": 4,
   "metadata": {},
   "outputs": [
    {
     "name": "stdout",
     "output_type": "stream",
     "text": [
      "(6428972, 40)\n",
      "(6428972,)\n"
     ]
    }
   ],
   "source": [
    "x_data = np.array(phrases)\n",
    "y_data = np.array(next_chars)\n",
    "\n",
    "print(x_data.shape)\n",
    "print(y_data.shape)"
   ]
  },
  {
   "cell_type": "code",
   "execution_count": 5,
   "metadata": {},
   "outputs": [],
   "source": [
    "# np.save(\"x_data.npy\", x_data)\n",
    "# np.save(\"y_data.npy\", y_data)\n",
    "np.savez_compressed(\"compressed_data.npz\", x_data=x_data, y_data=y_data)"
   ]
  },
  {
   "cell_type": "code",
   "execution_count": 6,
   "metadata": {},
   "outputs": [],
   "source": [
    "loaded = np.load('compressed_data.npz')"
   ]
  },
  {
   "cell_type": "code",
   "execution_count": 7,
   "metadata": {},
   "outputs": [
    {
     "data": {
      "text/plain": [
       "array([[56,  5, 13, ...,  2, 28, 29],\n",
       "       [ 5, 13, 15, ..., 28, 29, 22],\n",
       "       [13, 15, 11, ..., 29, 22, 16],\n",
       "       ...,\n",
       "       [ 1,  1,  1, ..., 35,  5, 15],\n",
       "       [ 1,  1,  1, ...,  5, 15,  9],\n",
       "       [ 1,  1, 46, ..., 15,  9, 12]])"
      ]
     },
     "execution_count": 7,
     "metadata": {},
     "output_type": "execute_result"
    }
   ],
   "source": [
    "loaded['x_data']"
   ]
  },
  {
   "cell_type": "code",
   "execution_count": 8,
   "metadata": {},
   "outputs": [
    {
     "data": {
      "text/plain": [
       "array([[56,  5, 13, ...,  2, 28, 29],\n",
       "       [ 5, 13, 15, ..., 28, 29, 22],\n",
       "       [13, 15, 11, ..., 29, 22, 16],\n",
       "       ...,\n",
       "       [ 1,  1,  1, ..., 35,  5, 15],\n",
       "       [ 1,  1,  1, ...,  5, 15,  9],\n",
       "       [ 1,  1, 46, ..., 15,  9, 12]])"
      ]
     },
     "execution_count": 8,
     "metadata": {},
     "output_type": "execute_result"
    }
   ],
   "source": [
    "x_data"
   ]
  }
 ],
 "metadata": {
  "kernelspec": {
   "display_name": "Python 3",
   "language": "python",
   "name": "python3"
  },
  "language_info": {
   "codemirror_mode": {
    "name": "ipython",
    "version": 3
   },
   "file_extension": ".py",
   "mimetype": "text/x-python",
   "name": "python",
   "nbconvert_exporter": "python",
   "pygments_lexer": "ipython3",
   "version": "3.7.3"
  }
 },
 "nbformat": 4,
 "nbformat_minor": 2
}
